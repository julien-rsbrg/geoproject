{
 "cells": [
  {
   "cell_type": "code",
   "execution_count": 2,
   "metadata": {},
   "outputs": [],
   "source": [
    "%load_ext autoreload\n",
    "%autoreload 2"
   ]
  },
  {
   "cell_type": "code",
   "execution_count": 3,
   "metadata": {},
   "outputs": [],
   "source": [
    "# data handling\n",
    "import geopandas as gpd\n",
    "import pandas as pd\n",
    "import numpy as np\n",
    "import utils\n",
    "\n",
    "# data analysis\n",
    "import seaborn as sns\n",
    "from sklearn.ensemble import RandomForestClassifier\n",
    "from sklearn.ensemble import BaggingClassifier\n",
    "from sklearn.tree import DecisionTreeClassifier\n",
    "from sklearn.ensemble import VotingClassifier\n",
    "from sklearn.linear_model import LogisticRegression\n",
    "from sklearn.neighbors import KNeighborsClassifier\n",
    "from sklearn.svm import SVC\n",
    "\n",
    "from sklearn.preprocessing import MultiLabelBinarizer\n",
    "from sklearn.preprocessing import LabelEncoder\n",
    "\n",
    "from sklearn.model_selection import cross_val_score\n",
    "\n",
    "from sklearn.metrics import accuracy_score, f1_score\n",
    "\n",
    "change_type_map = {'Demolition': 0, 'Road': 1, 'Residential': 2, 'Commercial': 3, 'Industrial': 4,\n",
    "                   'Mega Projects': 5}\n",
    "\n"
   ]
  },
  {
   "cell_type": "code",
   "execution_count": 4,
   "metadata": {},
   "outputs": [
    {
     "name": "stdout",
     "output_type": "stream",
     "text": [
      "--- read .csv files ---\n"
     ]
    }
   ],
   "source": [
    "# Read csvs\n",
    "print(\"--- read .csv files ---\")\n",
    "train_df = gpd.read_file('train.geojson', index_col=0)\n",
    "# train_df = train_df.dropna()\n",
    "test_df = gpd.read_file('test.geojson', index_col=0)\n",
    "# test_df = test_df.dropna()"
   ]
  },
  {
   "cell_type": "code",
   "execution_count": 5,
   "metadata": {},
   "outputs": [
    {
     "name": "stdout",
     "output_type": "stream",
     "text": [
      "(296146, 45) (120526, 44)\n"
     ]
    }
   ],
   "source": [
    "print(train_df.shape, test_df.shape)"
   ]
  },
  {
   "cell_type": "code",
   "execution_count": 8,
   "metadata": {},
   "outputs": [
    {
     "name": "stdout",
     "output_type": "stream",
     "text": [
      "--- Feature engineering ---\n"
     ]
    },
    {
     "name": "stderr",
     "output_type": "stream",
     "text": [
      "C:\\Users\\jtros\\AppData\\Local\\Temp\\ipykernel_26636\\2918220097.py:9: UserWarning: Geometry is in a geographic CRS. Results from 'length' are likely incorrect. Use 'GeoSeries.to_crs()' to re-project geometries to a projected CRS before this operation.\n",
      "\n",
      "  perimeter = np.asarray(df['geometry'].length)\n",
      "C:\\Users\\jtros\\AppData\\Local\\Temp\\ipykernel_26636\\2918220097.py:14: UserWarning: Geometry is in a geographic CRS. Results from 'area' are likely incorrect. Use 'GeoSeries.to_crs()' to re-project geometries to a projected CRS before this operation.\n",
      "\n",
      "  area_values = np.asarray(df['geometry'].area)\n",
      "C:\\Users\\jtros\\AppData\\Local\\Temp\\ipykernel_26636\\2918220097.py:9: UserWarning: Geometry is in a geographic CRS. Results from 'length' are likely incorrect. Use 'GeoSeries.to_crs()' to re-project geometries to a projected CRS before this operation.\n",
      "\n",
      "  perimeter = np.asarray(df['geometry'].length)\n",
      "C:\\Users\\jtros\\AppData\\Local\\Temp\\ipykernel_26636\\2918220097.py:14: UserWarning: Geometry is in a geographic CRS. Results from 'area' are likely incorrect. Use 'GeoSeries.to_crs()' to re-project geometries to a projected CRS before this operation.\n",
      "\n",
      "  area_values = np.asarray(df['geometry'].area)\n"
     ]
    },
    {
     "name": "stdout",
     "output_type": "stream",
     "text": [
      "train_x.shape, train_y.shape, test_x.shape :\n",
      " (296146, 58) (296146,) (120526, 58)\n"
     ]
    }
   ],
   "source": [
    "######## Feature engineering ########\n",
    "print(\"--- Feature engineering ---\")\n",
    "\n",
    "\n",
    "def get_features(df, dataset_type):\n",
    "    dic_features = {\"names\":[],\"features\":[]}\n",
    "\n",
    "    # geometry features\n",
    "    perimeter = np.asarray(df['geometry'].length)\n",
    "    perimeter = np.expand_dims(perimeter, axis=-1)\n",
    "    dic_features[\"features\"].append(perimeter)\n",
    "    dic_features[\"names\"].append(\"perimeter\")\n",
    "\n",
    "    area_values = np.asarray(df['geometry'].area)\n",
    "    area_values = np.expand_dims(area_values, axis=-1)\n",
    "    dic_features[\"features\"].append(area_values)\n",
    "    dic_features[\"names\"].append(\"area_values\")\n",
    "\n",
    "    def get_min_length_ratio(exte):\n",
    "        x, y = exte.xy\n",
    "        lengths = [\n",
    "            np.sqrt((x[i] - x[i + 1]) ** 2 + (y[i] - y[i + 1]) ** 2) for i in range(4)\n",
    "        ]\n",
    "        return np.min(lengths)\n",
    "\n",
    "    def get_max_length_ratio(exte):\n",
    "        x, y = exte.xy\n",
    "        lengths = [\n",
    "            np.sqrt((x[i] - x[i + 1]) ** 2 + (y[i] - y[i + 1]) ** 2) for i in range(4)\n",
    "        ]\n",
    "        return np.max(lengths)\n",
    "\n",
    "    \n",
    "    min_lengths = np.asarray(df[\"geometry\"].exterior.apply(get_min_length_ratio))\n",
    "    min_lengths = np.expand_dims(min_lengths,axis=-1)\n",
    "\n",
    "    max_lengths = np.asarray(df[\"geometry\"].exterior.apply(get_max_length_ratio))\n",
    "    max_lengths = np.expand_dims(max_lengths,axis=-1)\n",
    "\n",
    "    ratio_min_max_lengths = min_lengths/max_lengths\n",
    "    dic_features[\"features\"].append(ratio_min_max_lengths)\n",
    "    dic_features[\"names\"].append(\"ratio_min_max_lengths\")\n",
    "\n",
    "    # dic_features[\"features\"].append(min_lengths)\n",
    "    # dic_features[\"names\"].append(\"min_lengths\")\n",
    "\n",
    "    # dic_features[\"features\"].append(max_lengths)\n",
    "    # dic_features[\"names\"].append(\"max_lengths\")\n",
    "\n",
    "    \n",
    "    # geography features\n",
    "    le_urban_type = LabelEncoder()\n",
    "    urban_type = np.asarray(df[\"urban_type\"])\n",
    "    le_urban_type.fit(urban_type)\n",
    "    # print(\"possible urban_type list :\", list(le_urban_type.classes_))\n",
    "    urban_type = le_urban_type.transform(urban_type)\n",
    "    urban_type = np.expand_dims(urban_type, axis=-1)\n",
    "    dic_features[\"features\"].append(urban_type)\n",
    "    dic_features[\"names\"].append(\"urban_type\")\n",
    "\n",
    "    # le_geography_type = LabelEncoder()\n",
    "    # geography_type = np.asarray(df[\"geography_type\"])\n",
    "    # le_geography_type.fit(geography_type)\n",
    "    # # print(\"possible geography_type list :\", list(le_geography_type.classes_))\n",
    "    # geography_type = le_geography_type.transform(geography_type)\n",
    "    # geography_type = np.expand_dims(geography_type, axis=-1)\n",
    "    # features.append(geography_type)\n",
    "\n",
    "    # add sequence features\n",
    "    kept_columns_dense_32 = np.arange(32)\n",
    "    model_dense_32_output = np.load(f\"./save/model_dense_32_{dataset_type}_output_val_0f7151.npz\")[\"arr_0\"][:,kept_columns_dense_32]\n",
    "    dic_features[\"features\"].append(model_dense_32_output)\n",
    "    dic_features[\"names\"]+=[f\"model_dense_32_output_{j}\" for j in kept_columns_dense_32]\n",
    "\n",
    "    kept_columns_dense_16 = np.arange(16)\n",
    "    model_dense_16_output = np.load(f\"./save/model_dense_16_{dataset_type}_output_val_0f7151.npz\")[\"arr_0\"]\n",
    "    model_dense_16_output = model_dense_16_output[:,kept_columns_dense_16]\n",
    "    dic_features[\"features\"].append(model_dense_16_output)\n",
    "    dic_features[\"names\"]+=[f\"model_dense_16_output_{j}\" for j in kept_columns_dense_16]\n",
    "\n",
    "    kept_columns_dense_6 = np.arange(6)\n",
    "    model_dense_6_output = np.load(f\"./save/CNN_model_{dataset_type}_output_val_0f7151.npz\")[\"arr_0\"]\n",
    "    model_dense_6_output = model_dense_16_output[:,kept_columns_dense_6]\n",
    "    dic_features[\"features\"].append(model_dense_6_output)\n",
    "    dic_features[\"names\"]+=[f\"model_dense_6_output_{i}\" for i in range(model_dense_6_output.shape[-1])]\n",
    "    \n",
    "\n",
    "    # for feat in features:\n",
    "    #     print(feat.shape)\n",
    "\n",
    "    res = np.concatenate(dic_features[\"features\"], axis=-1)\n",
    "\n",
    "    return res,dic_features\n",
    "\n",
    "\n",
    "train_x,train_dic_features = get_features(train_df,dataset_type=\"train\")\n",
    "train_y = train_df['change_type'].apply(lambda x: change_type_map[x])\n",
    "\n",
    "index_x = test_df[\"index\"]\n",
    "test_x,_ = get_features(test_df,dataset_type=\"test\")\n",
    "\n",
    "print(\"train_x.shape, train_y.shape, test_x.shape :\\n\",\n",
    "      train_x.shape, train_y.shape, test_x.shape)\n"
   ]
  },
  {
   "cell_type": "code",
   "execution_count": 12,
   "metadata": {},
   "outputs": [
    {
     "name": "stdout",
     "output_type": "stream",
     "text": [
      "--- train ---\n"
     ]
    },
    {
     "name": "stderr",
     "output_type": "stream",
     "text": [
      "[Parallel(n_jobs=-1)]: Using backend ThreadingBackend with 16 concurrent workers.\n",
      "[Parallel(n_jobs=-1)]: Done  18 tasks      | elapsed:    7.1s\n",
      "[Parallel(n_jobs=-1)]: Done 100 out of 100 | elapsed:   25.7s finished\n",
      "[Parallel(n_jobs=16)]: Using backend ThreadingBackend with 16 concurrent workers.\n",
      "[Parallel(n_jobs=16)]: Done  18 tasks      | elapsed:    0.3s\n",
      "[Parallel(n_jobs=16)]: Done 100 out of 100 | elapsed:    1.4s finished\n"
     ]
    },
    {
     "name": "stdout",
     "output_type": "stream",
     "text": [
      "f1_score on training set : 0.9999271662233626\n",
      "prediction on test set shape : (296146,)\n",
      "perimeter importance: 0.04381673151270174\n",
      "area_values importance: 0.002413669524527106\n",
      "ratio_min_max_lengths importance: 0.02866619194909984\n",
      "urban_type importance: 0.00901854120952053\n",
      "model_dense_32_output_0 importance: 0.040566408854138314\n",
      "model_dense_32_output_1 importance: 0.022277359580454816\n",
      "model_dense_32_output_2 importance: 0.03142808466473427\n",
      "model_dense_32_output_3 importance: 0.005206557811741846\n",
      "model_dense_32_output_4 importance: 0.00665583951952783\n",
      "model_dense_32_output_5 importance: 0.0014917471299604637\n",
      "model_dense_32_output_6 importance: 0.04288813112194843\n",
      "model_dense_32_output_7 importance: 0.029611749436004427\n",
      "model_dense_32_output_8 importance: 0.02491512294760172\n",
      "model_dense_32_output_9 importance: 0.022873356783821762\n",
      "model_dense_32_output_10 importance: 0.01149684831521514\n",
      "model_dense_32_output_11 importance: 0.001850961547221102\n",
      "model_dense_32_output_12 importance: 0.002159361616509788\n",
      "model_dense_32_output_13 importance: 0.011320395369329226\n",
      "model_dense_32_output_14 importance: 0.02168476838529998\n",
      "model_dense_32_output_15 importance: 0.0467459489260404\n",
      "model_dense_32_output_16 importance: 0.024898537704463396\n",
      "model_dense_32_output_17 importance: 0.02215605081688294\n",
      "model_dense_32_output_18 importance: 0.02455743954620787\n",
      "model_dense_32_output_19 importance: 0.06399324559431555\n",
      "model_dense_32_output_20 importance: 0.007105988874160407\n",
      "model_dense_32_output_21 importance: 0.0034802991029380653\n",
      "model_dense_32_output_22 importance: 0.0012045363557156683\n",
      "model_dense_32_output_23 importance: 0.0019119480174373071\n",
      "model_dense_32_output_24 importance: 0.0025807137705458534\n",
      "model_dense_32_output_25 importance: 0.023999143448284483\n",
      "model_dense_32_output_26 importance: 0.006414085354246935\n",
      "model_dense_32_output_27 importance: 0.02696435914934984\n",
      "model_dense_32_output_28 importance: 0.0022818974084670447\n",
      "model_dense_32_output_29 importance: 0.0027800524834214525\n",
      "model_dense_32_output_30 importance: 0.003740903551462665\n",
      "model_dense_32_output_31 importance: 0.006635132207290738\n",
      "model_dense_16_output_0 importance: 4.101336471938771e-05\n",
      "model_dense_16_output_1 importance: 0.03443841058194116\n",
      "model_dense_16_output_2 importance: 7.029469568171714e-05\n",
      "model_dense_16_output_3 importance: 2.5818565358846706e-06\n",
      "model_dense_16_output_4 importance: 0.05234539034685729\n",
      "model_dense_16_output_5 importance: 4.46180687181895e-05\n",
      "model_dense_16_output_6 importance: 0.029985830902749724\n",
      "model_dense_16_output_7 importance: 0.0013086141812134009\n",
      "model_dense_16_output_8 importance: 0.07298151662372528\n",
      "model_dense_16_output_9 importance: 0.007309977113831523\n",
      "model_dense_16_output_10 importance: 5.620922099430413e-05\n",
      "model_dense_16_output_11 importance: 0.03571201635341089\n",
      "model_dense_16_output_12 importance: 1.417035746469021e-06\n",
      "model_dense_16_output_13 importance: 0.009065207185738769\n",
      "model_dense_16_output_14 importance: 0.001866833727629848\n",
      "model_dense_16_output_15 importance: 0.03429947516651074\n",
      "model_dense_6_output_0 importance: 3.8034421304142515e-05\n",
      "model_dense_6_output_1 importance: 0.03570415428633684\n",
      "model_dense_6_output_2 importance: 7.340277501770649e-05\n",
      "model_dense_6_output_3 importance: 2.8655285147625654e-06\n",
      "model_dense_6_output_4 importance: 0.05281174385569124\n",
      "model_dense_6_output_5 importance: 4.82831165419015e-05\n",
      "[51, 56, 54, 50, 52, 49, 46, 52, 53, 54, 47, 55, 50, 49, 47, 47, 55, 49, 49, 51, 45, 50, 55, 48, 55, 47, 54, 49, 52, 56, 53, 55, 49, 49, 49, 48, 50, 48, 48, 50, 46, 50, 50, 50, 54, 56, 48, 48, 48, 51, 52, 46, 47, 49, 49, 45, 48, 50, 51, 49, 57, 45, 55, 49, 63, 53, 57, 55, 49, 56, 50, 43, 50, 49, 50, 47, 54, 54, 51, 56, 47, 44, 51, 51, 55, 50, 51, 47, 47, 45, 47, 47, 49, 53, 51, 56, 53, 47, 54, 50]\n",
      "[42615, 42614, 42613, 42680, 42937, 42865, 42778, 42772, 42566, 42748, 42939, 42786, 42719, 42791, 42633, 43166, 42874, 42746, 42774, 42771, 42801, 42761, 42622, 42700, 42653, 42831, 42990, 42167, 42607, 42584, 42741, 42677, 43006, 42268, 43016, 42609, 42845, 43009, 42721, 42771, 42420, 42258, 42522, 42817, 42130, 42708, 42554, 42850, 42542, 43035, 42398, 42633, 42903, 43040, 42522, 42805, 42901, 42614, 42718, 42721, 42742, 42734, 42601, 42543, 42721, 42986, 42686, 42730, 42616, 42549, 42680, 42460, 42571, 43020, 42384, 42871, 42734, 42681, 42632, 42525, 42986, 42425, 43080, 42373, 42717, 42806, 42607, 42709, 42696, 42677, 42886, 42906, 42594, 42701, 43063, 43304, 42738, 43051, 42412, 42859]\n"
     ]
    }
   ],
   "source": [
    "######## Training ########\n",
    "print(\"--- train ---\")\n",
    "rnd_clf = RandomForestClassifier(verbose=1,n_jobs=-1)\n",
    "\n",
    "rnd_clf.fit(train_x,train_y)\n",
    "pred_y = rnd_clf.predict(train_x)\n",
    "train_rnd_clf_f1_score = f1_score(pred_y, train_y,average='macro')\n",
    "print(\"f1_score on training set :\", train_rnd_clf_f1_score)\n",
    "print(\"prediction on test set shape :\", pred_y.shape)\n",
    "\n",
    "utils.display_feature_importances(train_dic_features,rnd_clf)\n",
    "\n",
    "print([estimator.get_depth() for estimator in rnd_clf.estimators_])\n",
    "print([estimator.get_n_leaves() for estimator in rnd_clf.estimators_])\n",
    "\n",
    "utils.plot_and_save_confusion_matrix(pred_y,train_y,\"./results/confusion_matrix_simple_rnd_clfxCNN.png\")\n",
    "\n",
    "\n",
    "\n",
    "k_fold_number = 0\n",
    "val_scores = [-1]\n",
    "if k_fold_number>1:\n",
    "    def display_scores(scores):\n",
    "        print(\"Scores:\",scores)\n",
    "        print(\"Mean\",scores.mean())\n",
    "        print(\"Std:\",scores.std())\n",
    "\n",
    "    val_scores = cross_val_score(rnd_clf,train_x,train_y,scoring=\"f1_macro\",cv=k_fold_number)\n",
    "    display_scores(val_scores)\n",
    "\n",
    "\n",
    "    utils.save_experiment_in_excel(\"./results/automatic_study_features_rndxCNN.xlsx\",rnd_clf,train_rnd_clf_f1_score,k_fold_number,val_scores,train_dic_features,)\n"
   ]
  },
  {
   "cell_type": "code",
   "execution_count": 13,
   "metadata": {},
   "outputs": [
    {
     "name": "stderr",
     "output_type": "stream",
     "text": [
      "[Parallel(n_jobs=16)]: Using backend ThreadingBackend with 16 concurrent workers.\n",
      "[Parallel(n_jobs=16)]: Done  18 tasks      | elapsed:    0.1s\n"
     ]
    },
    {
     "name": "stdout",
     "output_type": "stream",
     "text": [
      "--- save ---\n"
     ]
    },
    {
     "name": "stderr",
     "output_type": "stream",
     "text": [
      "[Parallel(n_jobs=16)]: Done 100 out of 100 | elapsed:    0.5s finished\n"
     ]
    }
   ],
   "source": [
    "######## Save results to submission file ########\n",
    "pred_y = rnd_clf.predict(test_x)\n",
    "print(\"--- save ---\")\n",
    "pred_df = pd.DataFrame(pred_y, columns=['change_type'])\n",
    "pred_df.to_csv(\"./my_submissions/my_submission_simple_rndxCNN.csv\", index=True, index_label='Id')"
   ]
  }
 ],
 "metadata": {
  "kernelspec": {
   "display_name": "venv_geoproject",
   "language": "python",
   "name": "python3"
  },
  "language_info": {
   "codemirror_mode": {
    "name": "ipython",
    "version": 3
   },
   "file_extension": ".py",
   "mimetype": "text/x-python",
   "name": "python",
   "nbconvert_exporter": "python",
   "pygments_lexer": "ipython3",
   "version": "3.10.6 (tags/v3.10.6:9c7b4bd, Aug  1 2022, 21:53:49) [MSC v.1932 64 bit (AMD64)]"
  },
  "orig_nbformat": 4,
  "vscode": {
   "interpreter": {
    "hash": "5a691981180cc6a4785b1489b0832c35bb891551f8845804eee4cb510316e0ed"
   }
  }
 },
 "nbformat": 4,
 "nbformat_minor": 2
}
