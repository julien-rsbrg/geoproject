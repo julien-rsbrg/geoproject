{
 "cells": [
  {
   "cell_type": "code",
   "execution_count": 1,
   "metadata": {},
   "outputs": [],
   "source": [
    "%load_ext autoreload\n",
    "%autoreload 2"
   ]
  },
  {
   "cell_type": "code",
   "execution_count": 9,
   "metadata": {},
   "outputs": [],
   "source": [
    "# data handling\n",
    "import geopandas as gpd\n",
    "import pandas as pd\n",
    "import numpy as np\n",
    "import utils\n",
    "\n",
    "# data analysis\n",
    "import seaborn as sns\n",
    "from sklearn.ensemble import RandomForestClassifier\n",
    "from sklearn.ensemble import BaggingClassifier\n",
    "from sklearn.tree import DecisionTreeClassifier\n",
    "from sklearn.ensemble import VotingClassifier\n",
    "from sklearn.linear_model import LogisticRegression\n",
    "from sklearn.neighbors import KNeighborsClassifier\n",
    "from sklearn.svm import SVC\n",
    "import my_ML_algo as algo\n",
    "\n",
    "from sklearn.preprocessing import MultiLabelBinarizer\n",
    "from sklearn.preprocessing import LabelEncoder\n",
    "\n",
    "from sklearn.model_selection import cross_val_score\n",
    "\n",
    "from sklearn.metrics import accuracy_score, f1_score\n",
    "\n",
    "change_type_map = {'Demolition': 0, 'Road': 1, 'Residential': 2, 'Commercial': 3, 'Industrial': 4,\n",
    "                   'Mega Projects': 5}\n",
    "\n"
   ]
  },
  {
   "cell_type": "code",
   "execution_count": 4,
   "metadata": {},
   "outputs": [
    {
     "name": "stdout",
     "output_type": "stream",
     "text": [
      "--- read .csv files ---\n"
     ]
    }
   ],
   "source": [
    "# Read csvs\n",
    "print(\"--- read .csv files ---\")\n",
    "train_df = gpd.read_file('train.geojson', index_col=0)\n",
    "# train_df = train_df.dropna()\n",
    "test_df = gpd.read_file('test.geojson', index_col=0)\n",
    "# test_df = test_df.dropna()"
   ]
  },
  {
   "cell_type": "code",
   "execution_count": 5,
   "metadata": {},
   "outputs": [
    {
     "name": "stdout",
     "output_type": "stream",
     "text": [
      "(296146, 45) (120526, 44)\n"
     ]
    }
   ],
   "source": [
    "print(train_df.shape, test_df.shape)"
   ]
  },
  {
   "cell_type": "code",
   "execution_count": 6,
   "metadata": {},
   "outputs": [
    {
     "name": "stdout",
     "output_type": "stream",
     "text": [
      "--- Feature engineering ---\n"
     ]
    },
    {
     "name": "stderr",
     "output_type": "stream",
     "text": [
      "C:\\Users\\jtros\\AppData\\Local\\Temp\\ipykernel_2900\\2835160032.py:9: UserWarning: Geometry is in a geographic CRS. Results from 'length' are likely incorrect. Use 'GeoSeries.to_crs()' to re-project geometries to a projected CRS before this operation.\n",
      "\n",
      "  perimeter = np.asarray(df['geometry'].length)\n",
      "C:\\Users\\jtros\\AppData\\Local\\Temp\\ipykernel_2900\\2835160032.py:14: UserWarning: Geometry is in a geographic CRS. Results from 'area' are likely incorrect. Use 'GeoSeries.to_crs()' to re-project geometries to a projected CRS before this operation.\n",
      "\n",
      "  area_values = np.asarray(df['geometry'].area)\n"
     ]
    },
    {
     "name": "stdout",
     "output_type": "stream",
     "text": [
      "PCA 32 :  (296146, 12)\n",
      "PCA 16 :  (296146, 4)\n"
     ]
    },
    {
     "name": "stderr",
     "output_type": "stream",
     "text": [
      "C:\\Users\\jtros\\AppData\\Local\\Temp\\ipykernel_2900\\2835160032.py:9: UserWarning: Geometry is in a geographic CRS. Results from 'length' are likely incorrect. Use 'GeoSeries.to_crs()' to re-project geometries to a projected CRS before this operation.\n",
      "\n",
      "  perimeter = np.asarray(df['geometry'].length)\n",
      "C:\\Users\\jtros\\AppData\\Local\\Temp\\ipykernel_2900\\2835160032.py:14: UserWarning: Geometry is in a geographic CRS. Results from 'area' are likely incorrect. Use 'GeoSeries.to_crs()' to re-project geometries to a projected CRS before this operation.\n",
      "\n",
      "  area_values = np.asarray(df['geometry'].area)\n"
     ]
    },
    {
     "name": "stdout",
     "output_type": "stream",
     "text": [
      "PCA 32 :  (120526, 12)\n",
      "PCA 16 :  (120526, 4)\n",
      "train_x.shape, train_y.shape, test_x.shape :\n",
      " (296146, 40) (296146,) (120526, 40)\n"
     ]
    }
   ],
   "source": [
    "######## Feature engineering ########\n",
    "print(\"--- Feature engineering ---\")\n",
    "\n",
    "\n",
    "def get_features(df, dataset_type):\n",
    "    dic_features = {\"names\":[],\"features\":[]}\n",
    "\n",
    "    # geometry features\n",
    "    perimeter = np.asarray(df['geometry'].length)\n",
    "    perimeter = np.expand_dims(perimeter, axis=-1)\n",
    "    dic_features[\"features\"].append(perimeter)\n",
    "    dic_features[\"names\"].append(\"perimeter\")\n",
    "\n",
    "    area_values = np.asarray(df['geometry'].area)\n",
    "    area_values = np.expand_dims(area_values, axis=-1)\n",
    "    dic_features[\"features\"].append(area_values)\n",
    "    dic_features[\"names\"].append(\"area_values\")\n",
    "\n",
    "    def get_min_length_ratio(exte):\n",
    "        x, y = exte.xy\n",
    "        lengths = [\n",
    "            np.sqrt((x[i] - x[i + 1]) ** 2 + (y[i] - y[i + 1]) ** 2) for i in range(4)\n",
    "        ]\n",
    "        return np.min(lengths)\n",
    "\n",
    "    def get_max_length_ratio(exte):\n",
    "        x, y = exte.xy\n",
    "        lengths = [\n",
    "            np.sqrt((x[i] - x[i + 1]) ** 2 + (y[i] - y[i + 1]) ** 2) for i in range(4)\n",
    "        ]\n",
    "        return np.max(lengths)\n",
    "\n",
    "    \n",
    "    min_lengths = np.asarray(df[\"geometry\"].exterior.apply(get_min_length_ratio))\n",
    "    min_lengths = np.expand_dims(min_lengths,axis=-1)\n",
    "\n",
    "    max_lengths = np.asarray(df[\"geometry\"].exterior.apply(get_max_length_ratio))\n",
    "    max_lengths = np.expand_dims(max_lengths,axis=-1)\n",
    "\n",
    "    ratio_min_max_lengths = min_lengths/max_lengths\n",
    "    dic_features[\"features\"].append(ratio_min_max_lengths)\n",
    "    dic_features[\"names\"].append(\"ratio_min_max_lengths\")\n",
    "\n",
    "    # dic_features[\"features\"].append(min_lengths)\n",
    "    # dic_features[\"names\"].append(\"min_lengths\")\n",
    "\n",
    "    # dic_features[\"features\"].append(max_lengths)\n",
    "    # dic_features[\"names\"].append(\"max_lengths\")\n",
    "\n",
    "    # diameter\n",
    "    def get_coords(geom):\n",
    "        coords = list(geom.exterior.coords)\n",
    "        return (coords)\n",
    "\n",
    "    def get_diameters(coord):\n",
    "        arr_coord = np.array(coord)\n",
    "        distances = utils.get_distances(arr_coord,arr_coord)\n",
    "        return np.max(distances)\n",
    "\n",
    "    coords = df.geometry.apply(get_coords)\n",
    "    diameters = coords.apply(get_diameters)\n",
    "    diameters = np.asarray(diameters)\n",
    "    diameters = np.expand_dims(diameters,axis=-1)\n",
    "    dic_features[\"features\"].append(diameters)\n",
    "    dic_features[\"names\"].append(\"diameters\")\n",
    "\n",
    "    ratio_area_over_diameter = perimeter/diameters\n",
    "    dic_features[\"features\"].append(ratio_area_over_diameter)\n",
    "    dic_features[\"names\"].append(\"ratio_area_over_diameter\")\n",
    "\n",
    "    ratio_perimeter_over_diameter = area_values/diameters\n",
    "    dic_features[\"features\"].append(ratio_perimeter_over_diameter)\n",
    "    dic_features[\"names\"].append(\"ratio_perimeter_over_diameter\")\n",
    "\n",
    "    # geography features\n",
    "    mlb_urban_type = MultiLabelBinarizer()\n",
    "    urban_type = np.asarray(df[\"urban_type\"].apply(lambda x: x.split(\",\") if x!=\"N,A\" else [x]))\n",
    "    urban_type = [urban_type[row] for row in range(urban_type.shape[0])]\n",
    "    urban_type = mlb_urban_type.fit_transform(urban_type)\n",
    "    dic_features[\"features\"].append(urban_type)\n",
    "    dic_features[\"names\"]+=list(mlb_urban_type.classes_)\n",
    "\n",
    "    mlb_geography_type = MultiLabelBinarizer()\n",
    "    geography_type = np.asarray(df[\"geography_type\"].apply(lambda x: x.split(\",\") if x!=\"N,A\" else [x]))\n",
    "    geography_type = mlb_geography_type.fit_transform(geography_type)\n",
    "    dic_features[\"features\"].append(geography_type)\n",
    "    dic_features[\"names\"]+=list(mlb_geography_type.classes_)\n",
    "\n",
    "    # add sequence features\n",
    "\n",
    "    # kept_columns_dense_32 = np.arange(32)\n",
    "    # model_dense_32_output = np.load(f\"save/outputs/model_dense_32_{dataset_type}_output_5000_train_steps_no_val.npz\")[\"arr_0\"][:,kept_columns_dense_32]\n",
    "    # dic_features[\"features\"].append(model_dense_32_output)\n",
    "    # dic_features[\"names\"]+=[f\"model_dense_32_output_{j}\" for j in kept_columns_dense_32]\n",
    "\n",
    "    # kept_columns_dense_16 = np.arange(16)\n",
    "    # model_dense_16_output = np.load(f\"save/outputs/model_dense_16_{dataset_type}_output_5000_train_steps_no_val.npz\")[\"arr_0\"]\n",
    "    # model_dense_16_output = model_dense_16_output[:,kept_columns_dense_16]\n",
    "    # dic_features[\"features\"].append(model_dense_16_output)\n",
    "    # dic_features[\"names\"]+=[f\"model_dense_16_output_{j}\" for j in kept_columns_dense_16]\n",
    "\n",
    "    \n",
    "    # PCA on sequence features :\n",
    "\n",
    "    model_dense_32_output = np.load(f\"save/outputs/model_dense_32_{dataset_type}_output_5000_train_steps_no_val.npz\")[\"arr_0\"]\n",
    "    \n",
    "    PCA_model_dense_32_output = algo.apply_PCA(model_dense_32_output)\n",
    "    print(\"PCA 32 : \",PCA_model_dense_32_output.shape)\n",
    "    dic_features[\"features\"].append(PCA_model_dense_32_output)\n",
    "    dic_features[\"names\"]+=[f\"PCA_model_dense_32_output_{j}\" for j in np.arange(PCA_model_dense_32_output.shape[-1])]\n",
    "\n",
    "\n",
    "    model_dense_16_output = np.load(f\"save/outputs/model_dense_16_{dataset_type}_output_5000_train_steps_no_val.npz\")[\"arr_0\"]\n",
    "    PCA_model_dense_16_output = algo.apply_PCA(model_dense_16_output)\n",
    "    print(\"PCA 16 : \",PCA_model_dense_16_output.shape)\n",
    "    dic_features[\"features\"].append(PCA_model_dense_16_output)\n",
    "    dic_features[\"names\"]+=[f\"PCA_model_dense_16_output_{j}\" for j in np.arange(PCA_model_dense_16_output.shape[-1])]\n",
    "\n",
    "\n",
    "    # for feat in features:\n",
    "    #     print(feat.shape)\n",
    "\n",
    "    res = np.concatenate(dic_features[\"features\"], axis=-1)\n",
    "\n",
    "    return res,dic_features\n",
    "\n",
    "\n",
    "train_x,train_dic_features = get_features(train_df,dataset_type=\"train\")\n",
    "train_y = train_df['change_type'].apply(lambda x: change_type_map[x])\n",
    "\n",
    "index_x = test_df[\"index\"]\n",
    "test_x,_ = get_features(test_df,dataset_type=\"test\")\n",
    "\n",
    "print(\"train_x.shape, train_y.shape, test_x.shape :\\n\",\n",
    "      train_x.shape, train_y.shape, test_x.shape)\n"
   ]
  },
  {
   "cell_type": "code",
   "execution_count": 11,
   "metadata": {},
   "outputs": [
    {
     "name": "stderr",
     "output_type": "stream",
     "text": [
      "[Parallel(n_jobs=-1)]: Using backend LokyBackend with 16 concurrent workers.\n",
      "[Parallel(n_jobs=-1)]: Done   9 tasks      | elapsed:  1.3min\n"
     ]
    }
   ],
   "source": [
    "sfs=SFS(RandomForestClassifier(verbose=1,n_jobs=-1),\n",
    "          k_features=2,\n",
    "          scoring='f1_macro',\n",
    "          verbose=2,\n",
    "          cv=5, n_jobs=-1)\n",
    "sfs.fit(train_x,train_y)\n",
    "print(np.arange(train_x.shape[-1])[sfs.get_support()])"
   ]
  },
  {
   "cell_type": "code",
   "execution_count": 8,
   "metadata": {},
   "outputs": [
    {
     "name": "stdout",
     "output_type": "stream",
     "text": [
      "--- train ---\n"
     ]
    },
    {
     "name": "stderr",
     "output_type": "stream",
     "text": [
      "[Parallel(n_jobs=-1)]: Using backend ThreadingBackend with 16 concurrent workers.\n",
      "[Parallel(n_jobs=-1)]: Done  18 tasks      | elapsed:    4.3s\n",
      "[Parallel(n_jobs=-1)]: Done 100 out of 100 | elapsed:   15.2s finished\n",
      "[Parallel(n_jobs=16)]: Using backend ThreadingBackend with 16 concurrent workers.\n",
      "[Parallel(n_jobs=16)]: Done  18 tasks      | elapsed:    0.3s\n",
      "[Parallel(n_jobs=16)]: Done 100 out of 100 | elapsed:    1.3s finished\n"
     ]
    },
    {
     "name": "stdout",
     "output_type": "stream",
     "text": [
      "f1_score on training set : 0.9999972175022197\n",
      "prediction on test set shape : (296146,)\n",
      "perimeter importance: 0.04521681245554552\n",
      "area_values importance: 0.002226980757795324\n",
      "ratio_min_max_lengths importance: 0.02805841133994838\n",
      "urban_type importance: 0.009286252166873316\n",
      "model_dense_6_output_0 importance: 0.0005370045845868031\n",
      "model_dense_6_output_1 importance: 0.04027269630780477\n",
      "model_dense_6_output_2 importance: 0.0005719097053821394\n",
      "model_dense_6_output_3 importance: 0.0054256576719083315\n",
      "model_dense_6_output_4 importance: 0.0005393376383719886\n",
      "model_dense_6_output_5 importance: 0.056424529450713655\n",
      "PCA_model_dense_32_output_0 importance: 0.024575080073833397\n",
      "PCA_model_dense_32_output_1 importance: 0.06182720688138132\n",
      "PCA_model_dense_32_output_2 importance: 0.03667726480723228\n",
      "PCA_model_dense_32_output_3 importance: 0.08272258590746674\n",
      "PCA_model_dense_32_output_4 importance: 0.027071093924304318\n",
      "PCA_model_dense_32_output_5 importance: 0.04232778293734615\n",
      "PCA_model_dense_32_output_6 importance: 0.029992329205402523\n",
      "PCA_model_dense_32_output_7 importance: 0.024791750037927773\n",
      "PCA_model_dense_32_output_8 importance: 0.03787991397385958\n",
      "PCA_model_dense_32_output_9 importance: 0.06504509076608037\n",
      "PCA_model_dense_16_output_0 importance: 0.09716729132069693\n",
      "PCA_model_dense_16_output_1 importance: 0.10904409982375375\n",
      "PCA_model_dense_16_output_2 importance: 0.09443234460032572\n",
      "PCA_model_dense_16_output_3 importance: 0.03391847179678302\n",
      "PCA_model_dense_16_output_4 importance: 0.04396810186467587\n",
      "[44, 42, 42, 38, 38, 39, 40, 43, 42, 45, 43, 38, 49, 41, 54, 48, 44, 49, 50, 42, 41, 39, 45, 41, 43, 41, 40, 42, 42, 38, 39, 42, 46, 40, 40, 44, 42, 42, 42, 42, 42, 38, 40, 37, 39, 43, 42, 40, 43, 42, 39, 39, 43, 48, 42, 39, 46, 43, 39, 43, 37, 42, 41, 44, 43, 42, 44, 41, 52, 42, 40, 41, 41, 40, 41, 41, 40, 45, 39, 43, 57, 48, 45, 40, 39, 45, 44, 37, 44, 43, 41, 44, 41, 43, 48, 40, 47, 39, 45, 39]\n",
      "[34567, 33831, 34343, 33934, 33547, 34316, 34465, 33846, 34549, 33565, 34220, 33852, 33980, 34426, 34018, 34116, 33890, 33977, 33951, 34727, 34219, 33751, 34120, 33614, 33795, 34161, 34013, 34492, 33980, 34542, 34013, 33808, 34090, 33901, 33604, 34234, 34291, 34042, 34385, 34364, 34638, 34308, 34407, 33710, 34231, 34201, 34663, 33923, 33738, 34448, 34337, 34271, 34185, 34416, 34412, 33855, 33581, 34565, 34419, 34068, 34040, 34287, 34349, 34109, 33926, 34149, 34703, 34475, 34154, 34237, 34412, 34139, 33821, 34176, 34014, 33858, 34466, 34478, 33470, 34272, 34498, 33870, 34313, 34176, 34239, 34586, 34440, 34088, 34214, 33651, 34380, 33927, 33669, 34475, 33102, 33770, 34166, 33541, 33925, 34587]\n"
     ]
    }
   ],
   "source": [
    "######## Training ########\n",
    "print(\"--- train ---\")\n",
    "rnd_clf = RandomForestClassifier(verbose=1,n_jobs=-1)\n",
    "\n",
    "rnd_clf.fit(train_x,train_y)\n",
    "pred_y = rnd_clf.predict(train_x)\n",
    "train_rnd_clf_f1_score = f1_score(pred_y, train_y,average='macro')\n",
    "print(\"f1_score on training set :\", train_rnd_clf_f1_score)\n",
    "print(\"prediction on test set shape :\", pred_y.shape)\n",
    "\n",
    "utils.display_feature_importances(train_dic_features,rnd_clf)\n",
    "\n",
    "print([estimator.get_depth() for estimator in rnd_clf.estimators_])\n",
    "print([estimator.get_n_leaves() for estimator in rnd_clf.estimators_])\n",
    "\n",
    "utils.plot_and_save_confusion_matrix(pred_y,train_y,\"./results/confusion_matrix_simple_rnd_clfxCNN.png\")\n",
    "\n",
    "\n",
    "k_fold_number = 0\n",
    "val_scores = [-1]\n",
    "if k_fold_number>1:\n",
    "    def display_scores(scores):\n",
    "        print(\"Scores:\",scores)\n",
    "        print(\"Mean\",scores.mean())\n",
    "        print(\"Std:\",scores.std())\n",
    "    val_scores = cross_val_score(rnd_clf,train_x,train_y,scoring=\"f1_macro\",cv=k_fold_number)\n",
    "    display_scores(val_scores)\n",
    "\n",
    "\n",
    "    utils.save_experiment_in_excel(\"./results/automatic_study_features_rndxCNN.xlsx\",rnd_clf,train_rnd_clf_f1_score,k_fold_number,val_scores,train_dic_features,)\n"
   ]
  },
  {
   "cell_type": "code",
   "execution_count": 7,
   "metadata": {},
   "outputs": [
    {
     "data": {
      "text/plain": [
       "'PCA_model_dense_16_output_2'"
      ]
     },
     "execution_count": 7,
     "metadata": {},
     "output_type": "execute_result"
    }
   ],
   "source": [
    "train_dic_features[\"names\"][22]"
   ]
  },
  {
   "cell_type": "code",
   "execution_count": 5,
   "metadata": {},
   "outputs": [
    {
     "name": "stderr",
     "output_type": "stream",
     "text": [
      "[Parallel(n_jobs=-1)]: Using backend ThreadingBackend with 16 concurrent workers.\n",
      "[Parallel(n_jobs=-1)]: Done  18 tasks      | elapsed:    2.0s\n",
      "[Parallel(n_jobs=-1)]: Done 100 out of 100 | elapsed:    7.4s finished\n",
      "[Parallel(n_jobs=16)]: Using backend ThreadingBackend with 16 concurrent workers.\n",
      "[Parallel(n_jobs=16)]: Done  18 tasks      | elapsed:    0.8s\n"
     ]
    },
    {
     "name": "stdout",
     "output_type": "stream",
     "text": [
      "f1_score on training set : 0.9999810915692029\n",
      "prediction on test set shape : (296146,)\n"
     ]
    },
    {
     "name": "stderr",
     "output_type": "stream",
     "text": [
      "[Parallel(n_jobs=16)]: Done 100 out of 100 | elapsed:    2.9s finished\n"
     ]
    }
   ],
   "source": [
    "rnd_clf = RandomForestClassifier(verbose=1,n_jobs=-1)\n",
    "rnd_clf.fit(sfs.transform(train_x),train_y)\n",
    "pred_y = rnd_clf.predict(sfs.transform(train_x))\n",
    "train_rnd_clf_f1_score = f1_score(pred_y, train_y,average='macro')\n",
    "print(\"f1_score on training set :\", train_rnd_clf_f1_score)\n",
    "print(\"prediction on test set shape :\", pred_y.shape)"
   ]
  },
  {
   "cell_type": "code",
   "execution_count": 44,
   "metadata": {},
   "outputs": [
    {
     "name": "stderr",
     "output_type": "stream",
     "text": [
      "C:\\Users\\clara\\AppData\\Local\\Packages\\PythonSoftwareFoundation.Python.3.9_qbz5n2kfra8p0\\LocalCache\\local-packages\\Python39\\site-packages\\numpy\\core\\_methods.py:233: RuntimeWarning: Degrees of freedom <= 0 for slice\n",
      "  ret = _var(a, axis=axis, dtype=dtype, out=out, ddof=ddof,\n",
      "C:\\Users\\clara\\AppData\\Local\\Packages\\PythonSoftwareFoundation.Python.3.9_qbz5n2kfra8p0\\LocalCache\\local-packages\\Python39\\site-packages\\numpy\\core\\_methods.py:226: RuntimeWarning: invalid value encountered in double_scalars\n",
      "  ret = ret.dtype.type(ret / rcount)\n"
     ]
    },
    {
     "data": {
      "image/png": "[encoded data removed]",
      "text/plain": [
       "<Figure size 640x480 with 1 Axes>"
      ]
     },
     "metadata": {},
     "output_type": "display_data"
    }
   ],
   "source": [
    "from mlxtend.plotting import plot_sequential_feature_selection as plot_sfs\n",
    "import matplotlib.pyplot as plt\n",
    "fig1 = plot_sfs(sfs.get_metric_dict(), kind='std_dev')\n",
    "plt.title('Sequential Forward Selection (w. StdErr)')\n",
    "plt.grid()\n",
    "plt.show()"
   ]
  },
  {
   "cell_type": "code",
   "execution_count": 6,
   "metadata": {},
   "outputs": [
    {
     "name": "stderr",
     "output_type": "stream",
     "text": [
      "[Parallel(n_jobs=16)]: Using backend ThreadingBackend with 16 concurrent workers.\n",
      "[Parallel(n_jobs=16)]: Done  18 tasks      | elapsed:    0.0s\n",
      "[Parallel(n_jobs=16)]: Done 100 out of 100 | elapsed:    0.1s finished\n"
     ]
    },
    {
     "name": "stdout",
     "output_type": "stream",
     "text": [
      "--- save ---\n"
     ]
    }
   ],
   "source": [
    "######## Save results to submission file ########\n",
    "pred_y = rnd_clf.predict(sfs.transform(test_x))\n",
    "print(\"--- save ---\")\n",
    "pred_df = pd.DataFrame(pred_y, columns=['change_type'])\n",
    "pred_df.to_csv(\"greedy.csv\", index=True, index_label='Id')"
   ]
  }
 ],
 "metadata": {
  "kernelspec": {
   "display_name": "venv_geoproject",
   "language": "python",
   "name": "python3"
  },
  "language_info": {
   "codemirror_mode": {
    "name": "ipython",
    "version": 3
   },
   "file_extension": ".py",
   "mimetype": "text/x-python",
   "name": "python",
   "nbconvert_exporter": "python",
   "pygments_lexer": "ipython3",
   "version": "3.10.6 (tags/v3.10.6:9c7b4bd, Aug  1 2022, 21:53:49) [MSC v.1932 64 bit (AMD64)]"
  },
  "orig_nbformat": 4,
  "vscode": {
   "interpreter": {
    "hash": "5a691981180cc6a4785b1489b0832c35bb891551f8845804eee4cb510316e0ed"
   }
  }
 },
 "nbformat": 4,
 "nbformat_minor": 2
}
